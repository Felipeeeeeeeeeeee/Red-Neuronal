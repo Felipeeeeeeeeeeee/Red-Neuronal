{
 "cells": [
  {
   "cell_type": "code",
   "execution_count": null,
   "metadata": {},
   "outputs": [],
   "source": [
    "import red_neuronal as NN\n",
    "import data"
   ]
  },
  {
   "cell_type": "code",
   "execution_count": null,
   "metadata": {},
   "outputs": [],
   "source": [
    "# Obteniendo Datos\n",
    "entradas_entrenamiento, salidas_entrenamiento = data.datos_entrenamiento()\n",
    "entradas_validacion, salidas_validacion = data.datos_validacion()\n",
    "entradas_testeo, salidas_testeo = data.datos_testeo()\n",
    "\n",
    "# Creando Capas\n",
    "capa_entrada = NN.Capa(784)\n",
    "capa_oculta1 = NN.Capa(10, NN.Ponderacion, NN.Sigmoide)\n",
    "capa_oculta2 = NN.Capa(10, NN.Ponderacion, NN.Sigmoide)\n",
    "capa_oculta3 = NN.Capa(10, NN.Ponderacion, NN.Sigmoide)\n",
    "capa_salida = NN.Capa(1, NN.Ponderacion, NN.Sigmoide)\n",
    "\n",
    "# Creando Red con Capas\n",
    "red_neuronal = NN.RedNeuronal(\n",
    "    capa_entrada,\n",
    "    capa_oculta1,\n",
    "    capa_oculta2,\n",
    "    capa_oculta3,\n",
    "    capa_salida\n",
    ")\n",
    "\n",
    "# Entrenando Red\n",
    "entrenamiento = NN.Entrenamiento(\n",
    "    entradas_entrenamiento,\n",
    "    (entradas_validacion, salidas_validacion),\n",
    "    salidas_entrenamiento,\n",
    "    red_neuronal,\n",
    "    epocas=1000,\n",
    "    tasa_aprendizaje=0.1\n",
    ")\n",
    "entrenamiento.entrenar_red()"
   ]
  },
  {
   "cell_type": "code",
   "execution_count": null,
   "metadata": {},
   "outputs": [],
   "source": [
    "print(\"Pixeles Shape:\", entradas_testeo.shape)\n",
    "print(\"Pixeles por Imagen:\", entradas_testeo.shape[1])\n",
    "for index in range(len(entradas_testeo)):\n",
    "    result = red_neuronal.propagacion_adelante(\n",
    "        NN.np.reshape(entradas_testeo[index], (784,1))\n",
    "    )\n",
    "    data.dibujar_una_imagen(\n",
    "        entradas_testeo[index],\n",
    "        salidas_testeo[index][0],\n",
    "        result[\"salida_red\"]\n",
    "    )"
   ]
  }
 ],
 "metadata": {
  "kernelspec": {
   "display_name": "Redes_Neuronales_Scratch-I3OUTRaG",
   "language": "python",
   "name": "python3"
  },
  "language_info": {
   "codemirror_mode": {
    "name": "ipython",
    "version": 3
   },
   "file_extension": ".py",
   "mimetype": "text/x-python",
   "name": "python",
   "nbconvert_exporter": "python",
   "pygments_lexer": "ipython3",
   "version": "3.11.4"
  }
 },
 "nbformat": 4,
 "nbformat_minor": 2
}
